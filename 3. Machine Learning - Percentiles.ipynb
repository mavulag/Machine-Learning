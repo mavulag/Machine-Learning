{
 "cells": [
  {
   "cell_type": "markdown",
   "id": "124214df",
   "metadata": {},
   "source": [
    "## Percentiles are used in statistics to give you a number that describes the value that a given percent of the values are lower than.\n",
    "\n",
    "### Percentile is a term that describes how a score compares to other scores from the same set.\n",
    "\n",
    "Example: Let's say we have an array of the ages of all the people that lives in a street.\n",
    "\n",
    "ages = [5,31,43,48,50,41,7,11,15,39,80,82,32,2,8,6,25,36,27,61,31]\n",
    "\n",
    "P = (x(n + 1) / 100)\n",
    "\n",
    "where P = value at which x percentage of data lie below that value\n",
    "      n = total number of observations\n",
    "      \n",
    "1st: Arrange the score in ascending order\n",
    "\n",
    "[2,5,6,7,8,11,15,25,27,31,31,32,36,39,41,43,48,50,61,80,82]\n",
    "\n",
    "2nd: Plug the values in the formula to find n\n",
    "\n",
    "P = (75(21 + 1) / 100)\n",
    "\n",
    "P = 16.5\n",
    "\n",
    "P of 75 = 43\n",
    "\n",
    "What is the 75. percentile? The answer is 43, meaning that ((16/21) * 100) 76% of the people are 43 or younger."
   ]
  },
  {
   "cell_type": "code",
   "execution_count": 2,
   "id": "d322a42d",
   "metadata": {},
   "outputs": [
    {
     "name": "stdout",
     "output_type": "stream",
     "text": [
      "43.0\n"
     ]
    }
   ],
   "source": [
    "import numpy\n",
    "\n",
    "ages = [5,31,43,48,50,41,7,11,15,39,80,82,32,2,8,6,25,36,27,61,31]\n",
    "\n",
    "x = numpy.percentile(ages, 75)\n",
    "\n",
    "print(x)"
   ]
  },
  {
   "cell_type": "code",
   "execution_count": null,
   "id": "c980ea95",
   "metadata": {},
   "outputs": [],
   "source": [
    "import numpy\n",
    "\n",
    "ages = [5,31,43,48,50,41,7,11,15,39,80,82,32,2,8,6,25,36,27,61,31]"
   ]
  }
 ],
 "metadata": {
  "kernelspec": {
   "display_name": "Python 3 (ipykernel)",
   "language": "python",
   "name": "python3"
  },
  "language_info": {
   "codemirror_mode": {
    "name": "ipython",
    "version": 3
   },
   "file_extension": ".py",
   "mimetype": "text/x-python",
   "name": "python",
   "nbconvert_exporter": "python",
   "pygments_lexer": "ipython3",
   "version": "3.9.12"
  }
 },
 "nbformat": 4,
 "nbformat_minor": 5
}
