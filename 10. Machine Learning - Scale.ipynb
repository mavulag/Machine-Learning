{
 "cells": [
  {
   "cell_type": "markdown",
   "id": "c2bc9d5f",
   "metadata": {},
   "source": [
    "# Scale Features\n",
    "\n",
    "### When your data has different values, and even different measurement units, it can be difficult to compare them. What is kilograms compared to meters? Or altitude compared to time?\n",
    "\n",
    "### The answer to this problem is scaling. We can scale data into new values that are easier to compare."
   ]
  },
  {
   "cell_type": "markdown",
   "id": "602b867c",
   "metadata": {},
   "source": [
    "### There are different methods for scaling data, in this tutorial we will use a method called standardization.\n",
    "\n",
    "### The standardization method uses this formula:\n",
    "\n",
    "## z = (x - u) / s\n",
    "\n",
    "### Where z is the new value, x is the original value, u is the mean and s is the standard deviation.\n",
    "\n",
    "### If you take the weight column from the data set above, the first value is 790, and the scaled value will be:\n",
    "\n",
    "## (790 - 1292.23) / 238.74 = -2.1\n",
    "\n",
    "### If you take the volume column from the data set above, the first value is 1.0, and the scaled value will be:\n",
    "\n",
    "## (1.0 - 1.61) / 0.38 = -1.59\n",
    "\n",
    "### Now you can compare -2.1 with -1.59 instead of comparing 790 with 1.0.\n",
    "\n",
    "### You do not have to do this manually, the Python sklearn module has a method called StandardScaler() which returns a Scaler object with methods for transforming data sets."
   ]
  },
  {
   "cell_type": "code",
   "execution_count": 2,
   "id": "6e2e84a7",
   "metadata": {},
   "outputs": [],
   "source": [
    "# Scale all values in the Weight and Volume columns:\n",
    "\n",
    "import pandas\n",
    "from sklearn import linear_model\n",
    "from sklearn.preprocessing import StandardScaler\n",
    "\n",
    "scale = StandardScaler()\n",
    "\n",
    "df = pandas.read_csv(\"cars2.csv\")\n",
    "\n",
    "X = df[['Weight', 'Volume']]\n",
    "\n",
    "scaledX = scale.fit_transform(X)\n",
    "\n",
    "print(scaledX)"
   ]
  },
  {
   "cell_type": "markdown",
   "id": "22d4ba2a",
   "metadata": {},
   "source": [
    "#### Note that the first two values are -2.1 and -1.59, which corresponds to our calculations:"
   ]
  },
  {
   "cell_type": "markdown",
   "id": "29193cfa",
   "metadata": {},
   "source": [
    "# Predict CO2 Values\n",
    "### The task in the Multiple Regression chapter was to predict the CO2 emission from a car when you only knew its weight and volume.\n",
    "\n",
    "### When the data set is scaled, you will have to use the scale when you predict values:"
   ]
  },
  {
   "cell_type": "code",
   "execution_count": null,
   "id": "efa9dd9e",
   "metadata": {},
   "outputs": [],
   "source": [
    "# Predict the CO2 emission from a 1.3 liter car that weighs 2300 kilograms:\n",
    "\n",
    "import pandas\n",
    "from sklearn import linear_model\n",
    "from sklearn.preprocessing import StandardScaler\n",
    "\n",
    "scale = StandardScaler()\n",
    "\n",
    "df = pandas.read_csv(\"cars2.csv\")\n",
    "\n",
    "X = df[['Weight', 'Volume']]\n",
    "y = df['CO2']\n",
    "\n",
    "scaledX = scale.fit_transform(X)\n",
    "\n",
    "regr = linear_model.LinearRegression()\n",
    "regr.fit(scaledX, y)\n",
    "\n",
    "scaled = scale.transform([[2300, 1.3]])\n",
    "\n",
    "predictedCO2 = regr.predict([scaled[0]])\n",
    "print(predictedCO2)"
   ]
  }
 ],
 "metadata": {
  "kernelspec": {
   "display_name": "Python 3 (ipykernel)",
   "language": "python",
   "name": "python3"
  },
  "language_info": {
   "codemirror_mode": {
    "name": "ipython",
    "version": 3
   },
   "file_extension": ".py",
   "mimetype": "text/x-python",
   "name": "python",
   "nbconvert_exporter": "python",
   "pygments_lexer": "ipython3",
   "version": "3.9.12"
  }
 },
 "nbformat": 4,
 "nbformat_minor": 5
}
