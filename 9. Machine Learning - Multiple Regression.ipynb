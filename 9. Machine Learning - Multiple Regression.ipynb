{
 "cells": [
  {
   "cell_type": "markdown",
   "id": "d0dfd706",
   "metadata": {},
   "source": [
    "# Multiple Regression\n",
    "### Multiple regression is like linear regression, but with more than one independent value, meaning that we try to predict a value based on two or more variables."
   ]
  },
  {
   "cell_type": "markdown",
   "id": "31a72f5b",
   "metadata": {},
   "source": [
    "# How Does it Work?\n",
    "### In Python we have modules that will do the work for us. Start by importing the Pandas module."
   ]
  },
  {
   "cell_type": "code",
   "execution_count": 1,
   "id": "b5ac9d1b",
   "metadata": {},
   "outputs": [],
   "source": [
    "import Pandas"
   ]
  },
  {
   "cell_type": "markdown",
   "id": "ff0c0837",
   "metadata": {},
   "source": [
    "### The Pandas module allows us to read csv files and return a DataFrame object."
   ]
  },
  {
   "cell_type": "code",
   "execution_count": null,
   "id": "3baa309f",
   "metadata": {},
   "outputs": [],
   "source": [
    "df = Pandas.read_csv(\"cars.csv\")"
   ]
  },
  {
   "cell_type": "markdown",
   "id": "8ae09846",
   "metadata": {},
   "source": [
    "### Then make a list of the independent values and call this variable X.\n",
    "\n",
    "### Put the dependent values in a variable called y."
   ]
  },
  {
   "cell_type": "code",
   "execution_count": null,
   "id": "04557748",
   "metadata": {},
   "outputs": [],
   "source": [
    "X = df[['Weight', 'Volume']]\n",
    "y = df['CO2']"
   ]
  },
  {
   "cell_type": "markdown",
   "id": "7116cc47",
   "metadata": {},
   "source": [
    "### Tip: It is common to name the list of independent values with a upper case X, and the list of dependent values with a lower case y."
   ]
  },
  {
   "cell_type": "markdown",
   "id": "feecec8f",
   "metadata": {},
   "source": [
    "### We will use some methods from the sklearn module, so we will have to import that module as well:"
   ]
  },
  {
   "cell_type": "code",
   "execution_count": 4,
   "id": "f2cedf9a",
   "metadata": {},
   "outputs": [],
   "source": [
    "from sklearn import linear_model"
   ]
  },
  {
   "cell_type": "markdown",
   "id": "0d66536f",
   "metadata": {},
   "source": [
    "### From the sklearn module we will use the LinearRegression() method to create a linear regression object.\n",
    "\n",
    "### This object has a method called fit() that takes the independent and dependent values as parameters and fills the regression object with data that describes the relationship:"
   ]
  },
  {
   "cell_type": "code",
   "execution_count": null,
   "id": "f50bd172",
   "metadata": {},
   "outputs": [],
   "source": [
    "regr = linear_model.LinearRegression()\n",
    "regr.fit(X, y)"
   ]
  },
  {
   "cell_type": "markdown",
   "id": "0cd40d98",
   "metadata": {},
   "source": [
    "### Now we have a regression object that are ready to predict CO2 values based on a car's weight and volume:"
   ]
  },
  {
   "cell_type": "code",
   "execution_count": null,
   "id": "0beb6669",
   "metadata": {},
   "outputs": [],
   "source": [
    "#predict the CO2 emission of a car where the weight is 2300g, and the volume is 1300ccm:\n",
    "\n",
    "predictedCO2 = regr.predict([[2300, 1300]])"
   ]
  },
  {
   "cell_type": "markdown",
   "id": "bead22b7",
   "metadata": {},
   "source": [
    "#### We have predicted that a car with 1.3 liter engine, and a weight of 2.3 kg, will release approximately 107 grams of CO2 for every kilometer it drives."
   ]
  },
  {
   "cell_type": "markdown",
   "id": "230d7980",
   "metadata": {},
   "source": [
    "# Coefficient\n",
    "### The coefficient is a factor that describes the relationship with an unknown variable.\n",
    "\n",
    "Example: if x is a variable, then 2x is x two times. x is the unknown variable, and the number 2 is the coefficient.\n",
    "\n",
    "In this case, we can ask for the coefficient value of weight against CO2, and for volume against CO2. The answer(s) we get tells us what would happen if we increase, or decrease, one of the independent values."
   ]
  },
  {
   "cell_type": "code",
   "execution_count": null,
   "id": "1c51b66b",
   "metadata": {},
   "outputs": [],
   "source": [
    "# Print the coefficient values of the regression object:\n",
    "\n",
    "import Pandas\n",
    "from sklearn import linear_model\n",
    "\n",
    "df = Pandas.read_csv(\"cars.csv\")\n",
    "\n",
    "X = df[['Weight', 'Volume']]\n",
    "y = df['CO2']\n",
    "\n",
    "regr = linear_model.LinearRegression()\n",
    "regr.fit(X, y)\n",
    "\n",
    "print(regr.coef_)"
   ]
  },
  {
   "cell_type": "markdown",
   "id": "dc54c03c",
   "metadata": {},
   "source": [
    "# Explaination\n",
    "\n",
    "### The result array represents the coefficient values of weight and volume.\n",
    "\n",
    "### Weight: 0.00755095\n",
    "### Volume: 0.00780526\n",
    "\n",
    "### These values tells us that if the weight increases by 1g, the CO2 emission increases by 0.00755095g.\n",
    "\n",
    "### And if the engine size (Volume) increases by 1 ccm, the CO2 emission increases by 0.00780526 g.\n",
    "\n",
    "I think that is a fair guess, but let test it!\n",
    "\n",
    "We have already predicted that if a car with a 1300ccm engine weighs 2300g, the CO2 emission will be approximately 107g.\n",
    "\n",
    "What if we increase the weight with 1000g?"
   ]
  },
  {
   "cell_type": "code",
   "execution_count": null,
   "id": "377c8151",
   "metadata": {},
   "outputs": [],
   "source": [
    "# Copy the example from before, but change the weight from 2300 to 3300:\n",
    "\n",
    "import pandas\n",
    "from sklearn import linear_model\n",
    "\n",
    "df = pandas.read_csv(\"cars.csv\")\n",
    "\n",
    "X = df[['Weight', 'Volume']]\n",
    "y = df['CO2']\n",
    "\n",
    "regr = linear_model.LinearRegression()\n",
    "regr.fit(X, y)\n",
    "\n",
    "predictedCO2 = regr.predict([[3300, 1300]])\n",
    "\n",
    "print(predictedCO2)"
   ]
  },
  {
   "cell_type": "markdown",
   "id": "9d0e8ec1",
   "metadata": {},
   "source": [
    "#### We have predicted that a car with 1.3 liter engine, and a weight of 3.3 kg, will release approximately 115 grams of CO2 for every kilometer it drives.\n",
    "\n",
    "#### Which shows that the coefficient of 0.00755095 is correct:\n",
    "\n",
    "##### 107.2087328 + (1000 * 0.00755095) = 114.75968"
   ]
  }
 ],
 "metadata": {
  "kernelspec": {
   "display_name": "Python 3 (ipykernel)",
   "language": "python",
   "name": "python3"
  },
  "language_info": {
   "codemirror_mode": {
    "name": "ipython",
    "version": 3
   },
   "file_extension": ".py",
   "mimetype": "text/x-python",
   "name": "python",
   "nbconvert_exporter": "python",
   "pygments_lexer": "ipython3",
   "version": "3.9.12"
  }
 },
 "nbformat": 4,
 "nbformat_minor": 5
}
