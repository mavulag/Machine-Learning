{
 "cells": [
  {
   "cell_type": "markdown",
   "id": "64a09769",
   "metadata": {},
   "source": [
    "## How Can we Get Big Data Sets?\n",
    "\n",
    "### To create big data sets for testing, we use the Python module NumPy, which comes with a number of methods to create random data sets, of any size."
   ]
  },
  {
   "cell_type": "code",
   "execution_count": 1,
   "id": "a7617f27",
   "metadata": {},
   "outputs": [
    {
     "name": "stdout",
     "output_type": "stream",
     "text": [
      "[0.60466277 4.89086327 1.72097126 4.02900637 1.86268328 2.18823487\n",
      " 3.86079858 3.7526601  3.96778984 2.60891878 3.03232377 1.52421239\n",
      " 4.5060453  4.0293907  2.90927826 0.64007033 3.55181494 1.53232357\n",
      " 2.83359957 1.49319379 4.54877463 0.85071155 2.29934705 1.65713397\n",
      " 4.48174704 2.4446638  3.51960701 1.44213446 2.11703694 2.53842162\n",
      " 4.66232623 4.7198448  3.131041   0.49344972 1.78334904 4.94929404\n",
      " 2.76557274 3.43799081 4.19011685 1.28017718 3.47145001 2.29043867\n",
      " 1.02146899 4.68692372 3.54105037 4.18887201 3.15311663 2.7329429\n",
      " 1.42673302 4.67544866 2.95104422 2.71021479 1.10819024 0.60084723\n",
      " 0.22701902 0.51854003 1.41561675 2.97946128 0.13976892 0.21152973\n",
      " 0.61346631 2.26405691 2.30499121 4.55563406 0.4527129  0.78413966\n",
      " 0.99748137 1.60013001 0.92887022 0.12354246 0.16213752 3.95223081\n",
      " 1.05466509 1.89971675 0.54198444 3.88388647 0.43424955 0.79102997\n",
      " 3.67597023 2.7655166  0.14770668 0.5363295  4.85043902 1.21870912\n",
      " 1.27753772 2.26801871 2.44260432 4.74922381 0.45246043 4.99476476\n",
      " 4.14597883 1.57238629 2.75360627 0.69737732 0.9302282  0.82798036\n",
      " 1.36490247 3.26318644 3.46972725 0.10526949 4.08336057 4.55361249\n",
      " 2.44020086 3.45684655 0.5764133  4.23969401 0.40112558 3.39534236\n",
      " 0.39875479 0.95898663 0.79613118 4.19324576 1.48194657 3.61856244\n",
      " 3.06136015 0.13556324 1.12428922 2.42695628 0.77742999 2.37328631\n",
      " 3.32896675 1.65347116 2.11094641 2.51534389 0.33444912 4.88210888\n",
      " 0.30169595 4.96408256 0.51228579 1.99987014 3.92305899 4.02917812\n",
      " 2.47808383 4.13837615 1.72974186 0.16552079 2.19130671 3.81298684\n",
      " 2.60078613 3.17403423 2.30181068 1.88176147 4.78222138 2.42785724\n",
      " 3.42691115 3.62591789 4.40248192 2.34770497 4.27181827 1.12968736\n",
      " 3.00219452 1.36553187 1.9380624  4.38332222 4.53779543 4.9282513\n",
      " 4.94438531 1.82059205 4.87991969 1.47276573 4.51576331 1.73260185\n",
      " 1.92478031 2.59799772 3.47765694 1.40816476 3.34108107 0.28249695\n",
      " 0.29495864 0.66642303 0.27739891 1.24534037 3.35818285 2.65080849\n",
      " 0.86749771 1.687876   4.46526922 1.34958914 3.89502163 2.54261727\n",
      " 1.1655285  1.32730154 2.5798628  3.54930935 2.17459887 0.65345991\n",
      " 3.12457081 1.28566345 1.83576944 4.11028604 2.10182977 3.82415917\n",
      " 1.40110896 0.01030141 2.11356204 2.06250712 0.8974103  4.76523066\n",
      " 3.02732546 4.5993051  0.60139325 0.87236871 0.76169307 2.67549906\n",
      " 2.52503498 3.1830426  0.94405113 2.88736872 0.87415876 0.22562248\n",
      " 0.24261127 2.82203307 2.94141726 4.91239568 3.37345186 3.65614422\n",
      " 1.81223955 1.28616925 2.57400212 4.01922338 0.35604088 0.09605627\n",
      " 4.70712224 1.82938979 1.42861537 3.29813558 0.15975015 4.00233819\n",
      " 4.70144028 0.6718266  3.8747497  1.40113227 3.70499851 2.43551959\n",
      " 0.13888391 1.54539832 3.28697631 0.97047171 3.57809952 2.10528577\n",
      " 3.19038906 0.5297568  3.12279861 0.58501074 0.41870326 1.17271087\n",
      " 4.30893408 4.95744472 3.31667363 0.10646909]\n"
     ]
    }
   ],
   "source": [
    "# Create an array containing 250 random floats between 0 and 5:\n",
    "\n",
    "import numpy\n",
    "\n",
    "x = numpy.random.uniform(0.0, 5.0, 250)\n",
    "\n",
    "print(x)"
   ]
  },
  {
   "cell_type": "markdown",
   "id": "3f029a2c",
   "metadata": {},
   "source": [
    "## Histogram\n",
    "\n",
    "### To visualize the data set we can draw a histogram with the data we collected.\n",
    "\n",
    "### We will use the Python module Matplotlib to draw a histogram:"
   ]
  },
  {
   "cell_type": "code",
   "execution_count": 12,
   "id": "ad3f5b67",
   "metadata": {},
   "outputs": [
    {
     "data": {
      "image/png": "[encoded data removed]",
      "text/plain": [
       "<Figure size 432x288 with 1 Axes>"
      ]
     },
     "metadata": {
      "needs_background": "light"
     },
     "output_type": "display_data"
    },
    {
     "name": "stdout",
     "output_type": "stream",
     "text": [
      "\n",
      "Explaination:\n",
      "We use the array from the example above to draw a histogram with 5 bars.\n",
      "The first bar represents how many values in the array are between 0 and 1.\n",
      "The second bar represents how many values are between 1 and 2.\n",
      "Etc.\n"
     ]
    }
   ],
   "source": [
    "import numpy\n",
    "import matplotlib.pyplot as plt\n",
    "\n",
    "x = numpy.random.uniform(0.0, 5.0, 250)\n",
    "\n",
    "plt.hist(x, 5)\n",
    "plt.show()\n",
    "\n",
    "print()\n",
    "print(\"Explaination:\")\n",
    "print(\"We use the array from the example above to draw a histogram with 5 bars.\")\n",
    "print(\"The first bar represents how many values in the array are between 0 and 1.\")\n",
    "print(\"The second bar represents how many values are between 1 and 2.\")\n",
    "print(\"Etc.\")"
   ]
  },
  {
   "cell_type": "markdown",
   "id": "dcbbd6cb",
   "metadata": {},
   "source": [
    "## Big Data Distributions\n",
    "\n",
    "### By changing the parameters, you can create the data set as big as you want."
   ]
  },
  {
   "cell_type": "code",
   "execution_count": null,
   "id": "866593f7",
   "metadata": {},
   "outputs": [],
   "source": [
    "# Create an array with 100000 random numbers, and display them using a histogram with 100 bars:\n",
    "\n",
    "import numpy\n",
    "import matplotlib.pyplot as plt\n",
    "\n",
    "x = numpy.random"
   ]
  }
 ],
 "metadata": {
  "kernelspec": {
   "display_name": "Python 3 (ipykernel)",
   "language": "python",
   "name": "python3"
  },
  "language_info": {
   "codemirror_mode": {
    "name": "ipython",
    "version": 3
   },
   "file_extension": ".py",
   "mimetype": "text/x-python",
   "name": "python",
   "nbconvert_exporter": "python",
   "pygments_lexer": "ipython3",
   "version": "3.9.12"
  }
 },
 "nbformat": 4,
 "nbformat_minor": 5
}
